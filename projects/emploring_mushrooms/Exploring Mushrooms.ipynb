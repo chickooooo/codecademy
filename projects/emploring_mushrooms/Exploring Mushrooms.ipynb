{
 "cells": [
  {
   "cell_type": "markdown",
   "id": "55ab3031",
   "metadata": {},
   "source": [
    "# Exploring Mushrooms"
   ]
  },
  {
   "cell_type": "markdown",
   "id": "89b52940",
   "metadata": {},
   "source": [
    "When asked to think of a mushroom, you might imagine the following:\n",
    "\n",
    "![this shows a photo of some generic button mushrooms in a forest.](https://static-assets.codecademy.com/Paths/data-analyst-career-path/mushroom-analysis-project/generic_mushroom.jpg)\n",
    "\n",
    "It's a beige, convex mushroom top with a uniform, thick stem. Maybe you thought of it cut up on a slice of delicious pizza or braised with sauce over rice. Regardless, you most likely did not consider this:\n",
    "\n",
    "![A photo of some beautiful mushrooms in a forest. They do not have the signature \"mushroom top\" and have visually appealing grooves that make them look almost like floral.](https://static-assets.codecademy.com/Paths/data-analyst-career-path/mushroom-analysis-project/pretty_mushroom.jpg)\n",
    "\n",
    "Mushrooms exist in a variety of different colors, shapes, sizes, textures, etc. In this project, you will analyze an extensive mushroom dataset from [UCI](https://archive.ics.uci.edu/ml/datasets/Mushroom) using bar charts and acquaint yourself with the diverse array of mushrooms that exist worldwide."
   ]
  },
  {
   "cell_type": "markdown",
   "id": "872836d9",
   "metadata": {},
   "source": [
    "## Looking Over the Data"
   ]
  },
  {
   "cell_type": "markdown",
   "id": "2ad38a3e",
   "metadata": {},
   "source": [
    "1. Take a look at the code block below where we've loaded **mushroom_data.csv**. It contains 23 columns of data describing thousands of mushrooms. In the output below the code block, data about five different mushrooms is shown.\n",
    "\n",
    "   Read through this table to get a sense of the type(s) of variables in the data and the structure of the table. It may also be helpful to read through the information on [Kaggle](https://www.kaggle.com/uciml/mushroom-classification).\n",
    "   \n",
    "   Before you move on to plotting any of this data, answer the following questions:\n",
    "   * What type(s) of variables does **mushroom_data.csv** contain?\n",
    "   * How many of the variables can we visualize effectively with a bar graph?\n",
    "   \n",
    "   View **Exploring Mushrooms_Solution.ipynb** to see our answers."
   ]
  },
  {
   "cell_type": "code",
   "execution_count": 1,
   "id": "21c69dae",
   "metadata": {},
   "outputs": [
    {
     "name": "stdout",
     "output_type": "stream",
     "text": [
      "       Class Cap Shape Cap Surface Cap Color  Bruises     Odor  \\\n",
      "0  Poisonous    Convex      Smooth     Brown     True  Pungent   \n",
      "1     Edible    Convex      Smooth    Yellow     True   Almond   \n",
      "2     Edible      Bell      Smooth     White     True    Anise   \n",
      "3  Poisonous    Convex       Scaly     White     True  Pungent   \n",
      "4     Edible    Convex      Smooth      Gray    False     None   \n",
      "\n",
      "  Gill Attachment Gill Spacing Gill Size Gill Color  ...  \\\n",
      "0            Free        Close    Narrow      Black  ...   \n",
      "1            Free        Close     Broad      Black  ...   \n",
      "2            Free        Close     Broad      Brown  ...   \n",
      "3            Free        Close    Narrow      Brown  ...   \n",
      "4            Free      Crowded     Broad      Black  ...   \n",
      "\n",
      "  Stalk Surface Below Ring Stalk Color Above Ring Stalk Color Below Ring  \\\n",
      "0                   Smooth                  White                  White   \n",
      "1                   Smooth                  White                  White   \n",
      "2                   Smooth                  White                  White   \n",
      "3                   Smooth                  White                  White   \n",
      "4                   Smooth                  White                  White   \n",
      "\n",
      "  Veil Type Veil Color Ring Number   Ring Type Spore Print Color Population  \\\n",
      "0   Partial      White         One     Pendant             Black  Scattered   \n",
      "1   Partial      White         One     Pendant             Brown   Numerous   \n",
      "2   Partial      White         One     Pendant             Brown   Numerous   \n",
      "3   Partial      White         One     Pendant             Black  Scattered   \n",
      "4   Partial      White         One  Evanescent             Brown   Abundant   \n",
      "\n",
      "   Habitat  \n",
      "0    Urban  \n",
      "1  Grasses  \n",
      "2  Meadows  \n",
      "3    Urban  \n",
      "4  Grasses  \n",
      "\n",
      "[5 rows x 23 columns]\n"
     ]
    }
   ],
   "source": [
    "import matplotlib.pyplot as plt\n",
    "import pandas as pd\n",
    "import seaborn as sns\n",
    "\n",
    "# load in the data\n",
    "df = pd.read_csv(\"mushroom_data.csv\")\n",
    "print(df.head())"
   ]
  },
  {
   "cell_type": "code",
   "execution_count": 2,
   "id": "a4cd0cae",
   "metadata": {},
   "outputs": [
    {
     "name": "stdout",
     "output_type": "stream",
     "text": [
      "<class 'pandas.core.frame.DataFrame'>\n",
      "RangeIndex: 8124 entries, 0 to 8123\n",
      "Data columns (total 23 columns):\n",
      " #   Column                    Non-Null Count  Dtype \n",
      "---  ------                    --------------  ----- \n",
      " 0   Class                     8124 non-null   object\n",
      " 1   Cap Shape                 8124 non-null   object\n",
      " 2   Cap Surface               8124 non-null   object\n",
      " 3   Cap Color                 8124 non-null   object\n",
      " 4   Bruises                   8124 non-null   bool  \n",
      " 5   Odor                      8124 non-null   object\n",
      " 6   Gill Attachment           8124 non-null   object\n",
      " 7   Gill Spacing              8124 non-null   object\n",
      " 8   Gill Size                 8124 non-null   object\n",
      " 9   Gill Color                8124 non-null   object\n",
      " 10  Stalk Shape               8124 non-null   object\n",
      " 11  Stalk Root                8124 non-null   object\n",
      " 12  Stalk Surface Above Ring  8124 non-null   object\n",
      " 13  Stalk Surface Below Ring  8124 non-null   object\n",
      " 14  Stalk Color Above Ring    8124 non-null   object\n",
      " 15  Stalk Color Below Ring    8124 non-null   object\n",
      " 16  Veil Type                 8124 non-null   object\n",
      " 17  Veil Color                8124 non-null   object\n",
      " 18  Ring Number               8124 non-null   object\n",
      " 19  Ring Type                 8124 non-null   object\n",
      " 20  Spore Print Color         8124 non-null   object\n",
      " 21  Population                8124 non-null   object\n",
      " 22  Habitat                   8124 non-null   object\n",
      "dtypes: bool(1), object(22)\n",
      "memory usage: 1.4+ MB\n"
     ]
    }
   ],
   "source": [
    "df.info()"
   ]
  },
  {
   "cell_type": "markdown",
   "id": "4a3b539d",
   "metadata": {},
   "source": [
    "2. There are 23 variables in this dataset (one for each column). One of them (the `Bruises` variable) has `True` or `False` responses. This will create problems when we try to plot this column later on. \n",
    "\n",
    "   One way we can fix this issue is by converting each `True` and `False` value to a string. Iterate through the elements in the `Bruises` variable and convert each value to a string using the `str()` method.\n",
    "   \n",
    "   Now, all our variables are of `object` types, which means we can graph them. Graphing each one individually would be tedious; luckily, you will use loops.\n",
    "\n",
    "   If you look at the code block below, you will see an attribute called `columns`. This attribute returns the name of each variable in **mushroom_data.csv**.\n",
    "   - Create a loop that traverses each `column` in the `columns` list.\n",
    "   - Print each `column` in `columns` while iterating through the loop. This is to check that your `for` loop is working correctly."
   ]
  },
  {
   "cell_type": "code",
   "execution_count": 3,
   "id": "e1cb621d",
   "metadata": {},
   "outputs": [
    {
     "name": "stdout",
     "output_type": "stream",
     "text": [
      "<class 'pandas.core.frame.DataFrame'>\n",
      "RangeIndex: 8124 entries, 0 to 8123\n",
      "Data columns (total 23 columns):\n",
      " #   Column                    Non-Null Count  Dtype \n",
      "---  ------                    --------------  ----- \n",
      " 0   Class                     8124 non-null   object\n",
      " 1   Cap Shape                 8124 non-null   object\n",
      " 2   Cap Surface               8124 non-null   object\n",
      " 3   Cap Color                 8124 non-null   object\n",
      " 4   Bruises                   8124 non-null   object\n",
      " 5   Odor                      8124 non-null   object\n",
      " 6   Gill Attachment           8124 non-null   object\n",
      " 7   Gill Spacing              8124 non-null   object\n",
      " 8   Gill Size                 8124 non-null   object\n",
      " 9   Gill Color                8124 non-null   object\n",
      " 10  Stalk Shape               8124 non-null   object\n",
      " 11  Stalk Root                8124 non-null   object\n",
      " 12  Stalk Surface Above Ring  8124 non-null   object\n",
      " 13  Stalk Surface Below Ring  8124 non-null   object\n",
      " 14  Stalk Color Above Ring    8124 non-null   object\n",
      " 15  Stalk Color Below Ring    8124 non-null   object\n",
      " 16  Veil Type                 8124 non-null   object\n",
      " 17  Veil Color                8124 non-null   object\n",
      " 18  Ring Number               8124 non-null   object\n",
      " 19  Ring Type                 8124 non-null   object\n",
      " 20  Spore Print Color         8124 non-null   object\n",
      " 21  Population                8124 non-null   object\n",
      " 22  Habitat                   8124 non-null   object\n",
      "dtypes: object(23)\n",
      "memory usage: 1.4+ MB\n"
     ]
    }
   ],
   "source": [
    "df.Bruises = df.Bruises.astype(\"str\")\n",
    "df.info()"
   ]
  },
  {
   "cell_type": "code",
   "execution_count": 4,
   "id": "2d33b889",
   "metadata": {},
   "outputs": [
    {
     "data": {
      "text/plain": [
       "['Class',\n",
       " 'Cap Shape',\n",
       " 'Cap Surface',\n",
       " 'Cap Color',\n",
       " 'Bruises',\n",
       " 'Odor',\n",
       " 'Gill Attachment',\n",
       " 'Gill Spacing',\n",
       " 'Gill Size',\n",
       " 'Gill Color',\n",
       " 'Stalk Shape',\n",
       " 'Stalk Root',\n",
       " 'Stalk Surface Above Ring',\n",
       " 'Stalk Surface Below Ring',\n",
       " 'Stalk Color Above Ring',\n",
       " 'Stalk Color Below Ring',\n",
       " 'Veil Type',\n",
       " 'Veil Color',\n",
       " 'Ring Number',\n",
       " 'Ring Type',\n",
       " 'Spore Print Color',\n",
       " 'Population',\n",
       " 'Habitat']"
      ]
     },
     "execution_count": 4,
     "metadata": {},
     "output_type": "execute_result"
    }
   ],
   "source": [
    "# list of all column headers\n",
    "columns = df.columns.tolist()\n",
    "columns"
   ]
  },
  {
   "cell_type": "markdown",
   "id": "98bae09a",
   "metadata": {},
   "source": [
    "3. In the output above, you should see 23 column names pop up starting with `class` and ending with `habitat`.\n",
    "\n",
    "   Great! Your `for` loop is working, so feel free to comment out your print statement.\n",
    "   \n",
    "   You can now plot your data using the `.countplot()` method from the seaborn library. Follow these steps:\n",
    "   - Call `.countplot()` in the `for` loop\n",
    "   - Use `column` and the `df` pandas DataFrame to graph the value counts of each variable in **mushroom_data.csv**.\n",
    "   \n",
    "   Please wait until the next task to use `plt.show()`."
   ]
  },
  {
   "cell_type": "markdown",
   "id": "d9789bec",
   "metadata": {},
   "source": [
    "4. At the end of your `for` loop, add the following lines of code to show your plots:\n",
    "\n",
    "   ```py\n",
    "   plt.show()\n",
    "   plt.clf()\n",
    "   ```\n",
    "   \n",
    "   The `.show()` Matplotlib method should look familiar from the previous lesson, but [.clf()](https://matplotlib.org/3.1.1/api/_as_gen/matplotlib.pyplot.clf.html) might be unfamiliar. This method is also from the Matplotlib library. It clears any previous figure formatting. This will keep any graphs you are plotting from bunching up on each other. Instead, your plots will be neatly stacked on top of each other with spacing ideal for viewing."
   ]
  },
  {
   "cell_type": "code",
   "execution_count": 9,
   "id": "6b007db3",
   "metadata": {},
   "outputs": [
    {
     "data": {
      "image/png": "[encoded data removed]",
      "text/plain": [
       "<Figure size 432x288 with 1 Axes>"
      ]
     },
     "metadata": {
      "needs_background": "light"
     },
     "output_type": "display_data"
    },
    {
     "data": {
      "image/png": "[encoded data removed]",
      "text/plain": [
       "<Figure size 432x288 with 1 Axes>"
      ]
     },
     "metadata": {
      "needs_background": "light"
     },
     "output_type": "display_data"
    },
    {
     "data": {
      "text/plain": [
       "<Figure size 432x288 with 0 Axes>"
      ]
     },
     "metadata": {},
     "output_type": "display_data"
    }
   ],
   "source": [
    "for column in columns[:2]:\n",
    "    sns.countplot(x=df[column])\n",
    "    plt.show()\n",
    "    plt.clf()"
   ]
  },
  {
   "cell_type": "markdown",
   "id": "a9380c21",
   "metadata": {},
   "source": [
    "5. After using `plt.show()` and `plt.clf()`, 23 plots should appear in the output below the previous code block. Scroll through each of the graphs, and see what sort of trends you immediately see.\n",
    "   - What variables have an obvious mode?\n",
    "   - Do any of them have a notably diverse array of values?\n",
    "   - What habitat are you most likely to find mushrooms in?\n",
    "   \n",
    "   What questions did you have before seeing the graphs? What questions are popping up now that you see them?\n",
    "   \n",
    "   In the next few steps, you will clean up the graphs and make them more readable and useful for finding patterns."
   ]
  },
  {
   "cell_type": "markdown",
   "id": "36b039fe",
   "metadata": {},
   "source": [
    "## Cleaning the Bar Graphs"
   ]
  },
  {
   "cell_type": "markdown",
   "id": "7e723006",
   "metadata": {},
   "source": [
    "6. As you scroll through the graphs, you may notice some imperfections. For example, some of the x-axis labels overlap each other. The font size for the labels along the x-axis is also pretty small, making them tough to read.\n",
    "\n",
    "   Let's fix these up with two lines of code.\n",
    "   \n",
    "   Following your `.countplot()` method, add the following two lines of code in your `for` loop:\n",
    "   ```py\n",
    "   # rotates the value labels slightly so they don't overlap, also slightly increases font size\n",
    "   plt.xticks(rotation=30, fontsize=10)\n",
    "   # increases the variable label font size slightly to increase readability\n",
    "   plt.xlabel(column, fontsize=12)\n",
    "   ```"
   ]
  },
  {
   "cell_type": "code",
   "execution_count": 10,
   "id": "538f90c5",
   "metadata": {},
   "outputs": [
    {
     "data": {
      "image/png": "[encoded data removed]",
      "text/plain": [
       "<Figure size 432x288 with 1 Axes>"
      ]
     },
     "metadata": {
      "needs_background": "light"
     },
     "output_type": "display_data"
    },
    {
     "data": {
      "image/png": "[encoded data removed]",
      "text/plain": [
       "<Figure size 432x288 with 1 Axes>"
      ]
     },
     "metadata": {
      "needs_background": "light"
     },
     "output_type": "display_data"
    },
    {
     "data": {
      "text/plain": [
       "<Figure size 432x288 with 0 Axes>"
      ]
     },
     "metadata": {},
     "output_type": "display_data"
    }
   ],
   "source": [
    "for column in columns[:2]:\n",
    "    sns.countplot(x=df[column])\n",
    "    plt.xticks(rotation=30, fontsize=10)\n",
    "    plt.xlabel(column, fontsize=12)\n",
    "    plt.show()\n",
    "    plt.clf()"
   ]
  },
  {
   "cell_type": "markdown",
   "id": "705fc58d",
   "metadata": {},
   "source": [
    "7. One more thing you can do to increase readability is to add an informative title. Using `.title()` from the Matplotlib library, give your graph the following title:\n",
    "\n",
    "   ```\n",
    "   {Variable Name} Value Counts\n",
    "   ```\n",
    "   \n",
    "   Use `column` to capture each column name. Be sure to call this method after `.countplot()` inside of your `for` loop."
   ]
  },
  {
   "cell_type": "code",
   "execution_count": 14,
   "id": "8cf51de4",
   "metadata": {},
   "outputs": [
    {
     "data": {
      "image/png": "[encoded data removed]",
      "text/plain": [
       "<Figure size 432x288 with 1 Axes>"
      ]
     },
     "metadata": {
      "needs_background": "light"
     },
     "output_type": "display_data"
    },
    {
     "data": {
      "image/png": "[encoded data removed]",
      "text/plain": [
       "<Figure size 432x288 with 1 Axes>"
      ]
     },
     "metadata": {
      "needs_background": "light"
     },
     "output_type": "display_data"
    },
    {
     "data": {
      "text/plain": [
       "<Figure size 432x288 with 0 Axes>"
      ]
     },
     "metadata": {},
     "output_type": "display_data"
    }
   ],
   "source": [
    "for column in columns[:2]:\n",
    "    sns.countplot(x=df[column])\n",
    "    plt.xticks(rotation=30, fontsize=10)\n",
    "    plt.xlabel(column, fontsize=12)\n",
    "    plt.title(f\"{column} value counts\")\n",
    "    plt.show()\n",
    "    plt.clf()"
   ]
  },
  {
   "cell_type": "markdown",
   "id": "704bcb21",
   "metadata": {},
   "source": [
    "## Ordering the Bars for Analysis"
   ]
  },
  {
   "cell_type": "markdown",
   "id": "15ec59fe",
   "metadata": {},
   "source": [
    "8. The graphs are readable, but you can take it another step further.\n",
    "   - Add the `order` parameter to your `.countplot()` method.\n",
    "   - Set the parameter to that the value counts in each column are in descending order.\n",
    "   \n",
    "   You will need to use the `.value_counts()` pandas method and the `.index` pandas object."
   ]
  },
  {
   "cell_type": "code",
   "execution_count": 13,
   "id": "bc4b5f42",
   "metadata": {},
   "outputs": [
    {
     "data": {
      "image/png": "[encoded data removed]",
      "text/plain": [
       "<Figure size 432x288 with 1 Axes>"
      ]
     },
     "metadata": {
      "needs_background": "light"
     },
     "output_type": "display_data"
    },
    {
     "data": {
      "image/png": "[encoded data removed]",
      "text/plain": [
       "<Figure size 432x288 with 1 Axes>"
      ]
     },
     "metadata": {
      "needs_background": "light"
     },
     "output_type": "display_data"
    },
    {
     "data": {
      "text/plain": [
       "<Figure size 432x288 with 0 Axes>"
      ]
     },
     "metadata": {},
     "output_type": "display_data"
    }
   ],
   "source": [
    "for column in columns[:2]:\n",
    "    sns.countplot(x=df[column], order=df[column].value_counts().index)\n",
    "    plt.xticks(rotation=30, fontsize=10)\n",
    "    plt.xlabel(column, fontsize=12)\n",
    "    plt.title(f\"{column} value counts\")\n",
    "    plt.show()\n",
    "    plt.clf()"
   ]
  },
  {
   "cell_type": "markdown",
   "id": "fa0af899",
   "metadata": {},
   "source": [
    "9. Great job! In relatively few lines of code, you have created 23 informative plots. Now that they are titled, labeled clearly, and ordered, you can really dive in on your analysis.\n",
    "\n",
    "   Think about how someone could best use these visualizations. It is easy to tell which features of mushrooms are most common and rare, and we get insights into the variety of mushrooms in the fungi kingdom.\n",
    "   \n",
    "   Spend some time looking over the graphs. Write down exciting insights you find. Here are some examples to get you started:\n",
    "   - It is a roughly equal split between mushrooms that are edible vs. poisonous.\n",
    "   - The majority of mushrooms in this dataset have a scaly surface.\n",
    "   - There are a non-insignificant amount of mushrooms that give off an almond scent?!!!\n",
    "   - Most top surfaces of mushrooms in this dataset are scaly rather than smooth.\n",
    "   \n",
    "   Some of your analysis may also require research into mushroom features for any of the x-labels. We hope you enjoy continuing to explore the world of these fun guys!"
   ]
  },
  {
   "cell_type": "markdown",
   "id": "277b965f",
   "metadata": {},
   "source": [
    "## Extensions"
   ]
  },
  {
   "cell_type": "markdown",
   "id": "45dfde32",
   "metadata": {},
   "source": [
    "10. Feel free to play around with the graphs and customize them any way you want to help in your analysis! Here are some ideas to get yourself started:\n",
    "    * Turn any bar graph with less than six bars into a pie chart (hint: use a conditional statement!).\n",
    "    * Create your bar charts using a list comprehension instead of a `for` loop.\n",
    "    * Change the color theme of your graphs using the seaborn [color](https://seaborn.pydata.org/generated/seaborn.countplot.html) or [palette](https://seaborn.pydata.org/tutorial/color_palettes.html) parameters.\n",
    "    * Remove any graphs you find uninformative.\n",
    "    * Change around the current title or label formatting.\n",
    "    \n",
    "    Happy Coding! :)"
   ]
  }
 ],
 "metadata": {
  "kernelspec": {
   "display_name": "Python 3.9.12 ('base')",
   "language": "python",
   "name": "python3"
  },
  "language_info": {
   "codemirror_mode": {
    "name": "ipython",
    "version": 3
   },
   "file_extension": ".py",
   "mimetype": "text/x-python",
   "name": "python",
   "nbconvert_exporter": "python",
   "pygments_lexer": "ipython3",
   "version": "3.9.12"
  },
  "vscode": {
   "interpreter": {
    "hash": "b647a98f5a771bef6128177185896650a5eaba3992f263c2977efddc3ac935a8"
   }
  }
 },
 "nbformat": 4,
 "nbformat_minor": 5
}
