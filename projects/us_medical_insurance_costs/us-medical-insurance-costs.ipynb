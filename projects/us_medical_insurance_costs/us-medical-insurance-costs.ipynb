{
 "cells": [
  {
   "cell_type": "markdown",
   "metadata": {},
   "source": [
    "# U.S. Medical Insurance Costs"
   ]
  },
  {
   "cell_type": "code",
   "execution_count": 1,
   "metadata": {},
   "outputs": [],
   "source": [
    "# will hold data to explore\n",
    "data = []"
   ]
  },
  {
   "cell_type": "code",
   "execution_count": 8,
   "metadata": {},
   "outputs": [],
   "source": [
    "# importing data as a string\n",
    "with open(\"insurance.csv\") as data_file:\n",
    "    data_string = data_file.read()"
   ]
  },
  {
   "cell_type": "code",
   "execution_count": 7,
   "metadata": {},
   "outputs": [
    {
     "data": {
      "text/plain": [
       "'age,sex,bmi,children,smoker,region,charges\\n19,female,27.9,0,yes,southwest,16884.924\\n18,male,33.77,1,'"
      ]
     },
     "execution_count": 7,
     "metadata": {},
     "output_type": "execute_result"
    }
   ],
   "source": [
    "# inspecting data_string\n",
    "data_string[:100]"
   ]
  },
  {
   "cell_type": "code",
   "execution_count": 9,
   "metadata": {},
   "outputs": [
    {
     "data": {
      "text/plain": [
       "['age,sex,bmi,children,smoker,region,charges',\n",
       " '19,female,27.9,0,yes,southwest,16884.924',\n",
       " '18,male,33.77,1,no,southeast,1725.5523',\n",
       " '28,male,33,3,no,southeast,4449.462',\n",
       " '33,male,22.705,0,no,northwest,21984.47061',\n",
       " '32,male,28.88,0,no,northwest,3866.8552',\n",
       " '31,female,25.74,0,no,southeast,3756.6216',\n",
       " '46,female,33.44,1,no,southeast,8240.5896',\n",
       " '37,female,27.74,3,no,northwest,7281.5056',\n",
       " '37,male,29.83,2,no,northeast,6406.4107']"
      ]
     },
     "execution_count": 9,
     "metadata": {},
     "output_type": "execute_result"
    }
   ],
   "source": [
    "# splitting each record into seperate item\n",
    "data_splitted = data_string.split(\"\\n\")\n",
    "\n",
    "data_splitted[:10]"
   ]
  },
  {
   "cell_type": "code",
   "execution_count": 10,
   "metadata": {},
   "outputs": [
    {
     "data": {
      "text/plain": [
       "'age,sex,bmi,children,smoker,region,charges'"
      ]
     },
     "execution_count": 10,
     "metadata": {},
     "output_type": "execute_result"
    }
   ],
   "source": [
    "# removing headers\n",
    "data_splitted.pop(0)"
   ]
  },
  {
   "cell_type": "code",
   "execution_count": 11,
   "metadata": {},
   "outputs": [
    {
     "data": {
      "text/plain": [
       "['19,female,27.9,0,yes,southwest,16884.924',\n",
       " '18,male,33.77,1,no,southeast,1725.5523',\n",
       " '28,male,33,3,no,southeast,4449.462',\n",
       " '33,male,22.705,0,no,northwest,21984.47061',\n",
       " '32,male,28.88,0,no,northwest,3866.8552',\n",
       " '31,female,25.74,0,no,southeast,3756.6216',\n",
       " '46,female,33.44,1,no,southeast,8240.5896',\n",
       " '37,female,27.74,3,no,northwest,7281.5056',\n",
       " '37,male,29.83,2,no,northeast,6406.4107',\n",
       " '60,female,25.84,0,no,northwest,28923.13692']"
      ]
     },
     "execution_count": 11,
     "metadata": {},
     "output_type": "execute_result"
    }
   ],
   "source": [
    "# inspecting data_splitted\n",
    "data_splitted[:10]"
   ]
  },
  {
   "cell_type": "code",
   "execution_count": 13,
   "metadata": {},
   "outputs": [
    {
     "data": {
      "text/plain": [
       "[['19', 'female', '27.9', '0', 'yes', 'southwest', '16884.924'],\n",
       " ['18', 'male', '33.77', '1', 'no', 'southeast', '1725.5523'],\n",
       " ['28', 'male', '33', '3', 'no', 'southeast', '4449.462'],\n",
       " ['33', 'male', '22.705', '0', 'no', 'northwest', '21984.47061'],\n",
       " ['32', 'male', '28.88', '0', 'no', 'northwest', '3866.8552'],\n",
       " ['31', 'female', '25.74', '0', 'no', 'southeast', '3756.6216'],\n",
       " ['46', 'female', '33.44', '1', 'no', 'southeast', '8240.5896'],\n",
       " ['37', 'female', '27.74', '3', 'no', 'northwest', '7281.5056'],\n",
       " ['37', 'male', '29.83', '2', 'no', 'northeast', '6406.4107'],\n",
       " ['60', 'female', '25.84', '0', 'no', 'northwest', '28923.13692']]"
      ]
     },
     "execution_count": 13,
     "metadata": {},
     "output_type": "execute_result"
    }
   ],
   "source": [
    "# splitting records in their own list\n",
    "data_splitted_2d = [record.split(\",\") for record in data_splitted]\n",
    "\n",
    "data_splitted_2d[:10]"
   ]
  },
  {
   "cell_type": "code",
   "execution_count": 20,
   "metadata": {},
   "outputs": [
    {
     "data": {
      "text/plain": [
       "['']"
      ]
     },
     "execution_count": 20,
     "metadata": {},
     "output_type": "execute_result"
    }
   ],
   "source": [
    "# removing last empty record\n",
    "data_splitted_2d.pop(-1)"
   ]
  },
  {
   "cell_type": "code",
   "execution_count": 22,
   "metadata": {},
   "outputs": [
    {
     "data": {
      "text/plain": [
       "[{'age': '19',\n",
       "  'sex': 'female',\n",
       "  'bmi': '27.9',\n",
       "  'children': '0',\n",
       "  'smoker': 'yes',\n",
       "  'region': 'southwest',\n",
       "  'charges': '16884.924'},\n",
       " {'age': '18',\n",
       "  'sex': 'male',\n",
       "  'bmi': '33.77',\n",
       "  'children': '1',\n",
       "  'smoker': 'no',\n",
       "  'region': 'southeast',\n",
       "  'charges': '1725.5523'},\n",
       " {'age': '28',\n",
       "  'sex': 'male',\n",
       "  'bmi': '33',\n",
       "  'children': '3',\n",
       "  'smoker': 'no',\n",
       "  'region': 'southeast',\n",
       "  'charges': '4449.462'}]"
      ]
     },
     "execution_count": 22,
     "metadata": {},
     "output_type": "execute_result"
    }
   ],
   "source": [
    "# adding records to data list in dictionary format\n",
    "data = [{\"age\": record[0], \"sex\": record[1], \"bmi\": record[2], \"children\": record[3], \"smoker\": record[4], \"region\": record[5], \"charges\": record[6]} for record in data_splitted_2d]\n",
    "\n",
    "data[:3]"
   ]
  },
  {
   "cell_type": "code",
   "execution_count": 26,
   "metadata": {},
   "outputs": [
    {
     "data": {
      "text/plain": [
       "[{'age': 19,\n",
       "  'sex': 'female',\n",
       "  'bmi': 27.9,\n",
       "  'children': 0,\n",
       "  'smoker': 'yes',\n",
       "  'region': 'southwest',\n",
       "  'charges': 16884.924},\n",
       " {'age': 18,\n",
       "  'sex': 'male',\n",
       "  'bmi': 33.77,\n",
       "  'children': 1,\n",
       "  'smoker': 'no',\n",
       "  'region': 'southeast',\n",
       "  'charges': 1725.5523},\n",
       " {'age': 28,\n",
       "  'sex': 'male',\n",
       "  'bmi': 33.0,\n",
       "  'children': 3,\n",
       "  'smoker': 'no',\n",
       "  'region': 'southeast',\n",
       "  'charges': 4449.462}]"
      ]
     },
     "execution_count": 26,
     "metadata": {},
     "output_type": "execute_result"
    }
   ],
   "source": [
    "# converting numbers from string to int/float\n",
    "for record in data:\n",
    "    record[\"age\"] = int(record[\"age\"])\n",
    "    record[\"bmi\"] = float(record[\"bmi\"])\n",
    "    record[\"children\"] = int(record[\"children\"])\n",
    "    record[\"charges\"] = float(record[\"charges\"])\n",
    "\n",
    "data[:3]"
   ]
  },
  {
   "cell_type": "code",
   "execution_count": 27,
   "metadata": {},
   "outputs": [
    {
     "data": {
      "text/plain": [
       "1338"
      ]
     },
     "execution_count": 27,
     "metadata": {},
     "output_type": "execute_result"
    }
   ],
   "source": [
    "# getting total number of records\n",
    "num_of_records = len(data)\n",
    "\n",
    "num_of_records"
   ]
  },
  {
   "cell_type": "code",
   "execution_count": 28,
   "metadata": {},
   "outputs": [],
   "source": [
    "# get average bmi of data\n",
    "def get_average_bmi():\n",
    "    total_bmi = 0\n",
    "\n",
    "    for record in data:\n",
    "        total_bmi += record[\"bmi\"]\n",
    "\n",
    "    return total_bmi / num_of_records"
   ]
  },
  {
   "cell_type": "code",
   "execution_count": 29,
   "metadata": {},
   "outputs": [
    {
     "data": {
      "text/plain": [
       "30.663396860986538"
      ]
     },
     "execution_count": 29,
     "metadata": {},
     "output_type": "execute_result"
    }
   ],
   "source": [
    "get_average_bmi()"
   ]
  },
  {
   "cell_type": "code",
   "execution_count": 30,
   "metadata": {},
   "outputs": [],
   "source": [
    "# get average age of data\n",
    "def get_average_age():\n",
    "    total_age = 0\n",
    "\n",
    "    for record in data:\n",
    "        total_age += record[\"age\"]\n",
    "\n",
    "    return total_age / num_of_records"
   ]
  },
  {
   "cell_type": "code",
   "execution_count": 31,
   "metadata": {},
   "outputs": [
    {
     "data": {
      "text/plain": [
       "39.20702541106129"
      ]
     },
     "execution_count": 31,
     "metadata": {},
     "output_type": "execute_result"
    }
   ],
   "source": [
    "get_average_age()"
   ]
  },
  {
   "cell_type": "code",
   "execution_count": 32,
   "metadata": {},
   "outputs": [],
   "source": [
    "# get average insurance charges from data\n",
    "def get_average_charges():\n",
    "    total_charges = 0\n",
    "\n",
    "    for record in data:\n",
    "        total_charges += record[\"charges\"]\n",
    "\n",
    "    return total_charges / num_of_records"
   ]
  },
  {
   "cell_type": "code",
   "execution_count": 33,
   "metadata": {},
   "outputs": [
    {
     "data": {
      "text/plain": [
       "13270.422265141257"
      ]
     },
     "execution_count": 33,
     "metadata": {},
     "output_type": "execute_result"
    }
   ],
   "source": [
    "get_average_charges()"
   ]
  },
  {
   "cell_type": "code",
   "execution_count": 34,
   "metadata": {},
   "outputs": [],
   "source": [
    "# get total number of smokers\n",
    "def get_smoker_count():\n",
    "    count = 0\n",
    "\n",
    "    for record in data:\n",
    "        if record[\"smoker\"] == \"yes\":\n",
    "            count += 1\n",
    "\n",
    "    return count"
   ]
  },
  {
   "cell_type": "code",
   "execution_count": 36,
   "metadata": {},
   "outputs": [
    {
     "data": {
      "text/plain": [
       "274"
      ]
     },
     "execution_count": 36,
     "metadata": {},
     "output_type": "execute_result"
    }
   ],
   "source": [
    "smoker_count = get_smoker_count()\n",
    "smoker_count"
   ]
  },
  {
   "cell_type": "code",
   "execution_count": 41,
   "metadata": {},
   "outputs": [
    {
     "data": {
      "text/plain": [
       "'Smokers percentage: 20.48%'"
      ]
     },
     "execution_count": 41,
     "metadata": {},
     "output_type": "execute_result"
    }
   ],
   "source": [
    "# percentage of smokers\n",
    "smoker_percentage = smoker_count / num_of_records * 100\n",
    "\"Smokers percentage: \" + str(round(smoker_percentage, 2)) + \"%\""
   ]
  },
  {
   "cell_type": "code",
   "execution_count": 42,
   "metadata": {},
   "outputs": [],
   "source": [
    "# get total number of males in dataset\n",
    "def get_male_count():\n",
    "    count = 0\n",
    "\n",
    "    for record in data:\n",
    "        if record[\"sex\"] == \"male\":\n",
    "            count += 1\n",
    "\n",
    "    return count"
   ]
  },
  {
   "cell_type": "code",
   "execution_count": 43,
   "metadata": {},
   "outputs": [
    {
     "data": {
      "text/plain": [
       "676"
      ]
     },
     "execution_count": 43,
     "metadata": {},
     "output_type": "execute_result"
    }
   ],
   "source": [
    "male_count = get_male_count()\n",
    "male_count"
   ]
  },
  {
   "cell_type": "code",
   "execution_count": 44,
   "metadata": {},
   "outputs": [
    {
     "data": {
      "text/plain": [
       "'Male percentage: 50.52%'"
      ]
     },
     "execution_count": 44,
     "metadata": {},
     "output_type": "execute_result"
    }
   ],
   "source": [
    "# pecentage of males\n",
    "male_percentage = male_count / num_of_records * 100\n",
    "\"Male percentage: \" + str(round(male_percentage, 2)) + \"%\""
   ]
  },
  {
   "cell_type": "code",
   "execution_count": 45,
   "metadata": {},
   "outputs": [],
   "source": [
    "# get count for each age in the dataset\n",
    "def get_individual_age_count():\n",
    "    individual_age_count = {}\n",
    "\n",
    "    for record in data:\n",
    "        if record[\"age\"] not in individual_age_count:\n",
    "            individual_age_count[record[\"age\"]] = 1\n",
    "        else:\n",
    "            individual_age_count[record[\"age\"]] += 1\n",
    "\n",
    "    return individual_age_count"
   ]
  },
  {
   "cell_type": "code",
   "execution_count": 46,
   "metadata": {},
   "outputs": [
    {
     "data": {
      "text/plain": [
       "{19: 68,\n",
       " 18: 69,\n",
       " 28: 28,\n",
       " 33: 26,\n",
       " 32: 26,\n",
       " 31: 27,\n",
       " 46: 29,\n",
       " 37: 25,\n",
       " 60: 23,\n",
       " 25: 28,\n",
       " 62: 23,\n",
       " 23: 28,\n",
       " 56: 26,\n",
       " 27: 28,\n",
       " 52: 29,\n",
       " 30: 27,\n",
       " 34: 26,\n",
       " 59: 25,\n",
       " 63: 23,\n",
       " 55: 26,\n",
       " 22: 28,\n",
       " 26: 28,\n",
       " 35: 25,\n",
       " 24: 28,\n",
       " 41: 27,\n",
       " 38: 25,\n",
       " 36: 25,\n",
       " 21: 28,\n",
       " 48: 29,\n",
       " 40: 27,\n",
       " 58: 25,\n",
       " 53: 28,\n",
       " 43: 27,\n",
       " 64: 22,\n",
       " 20: 29,\n",
       " 61: 23,\n",
       " 44: 27,\n",
       " 57: 26,\n",
       " 29: 27,\n",
       " 45: 29,\n",
       " 54: 28,\n",
       " 49: 28,\n",
       " 47: 29,\n",
       " 51: 29,\n",
       " 42: 27,\n",
       " 50: 29,\n",
       " 39: 25}"
      ]
     },
     "execution_count": 46,
     "metadata": {},
     "output_type": "execute_result"
    }
   ],
   "source": [
    "get_individual_age_count()"
   ]
  },
  {
   "cell_type": "code",
   "execution_count": 47,
   "metadata": {},
   "outputs": [],
   "source": [
    "# further analysis can be done"
   ]
  }
 ],
 "metadata": {
  "kernelspec": {
   "display_name": "Python 3.10.5 64-bit",
   "language": "python",
   "name": "python3"
  },
  "language_info": {
   "codemirror_mode": {
    "name": "ipython",
    "version": 3
   },
   "file_extension": ".py",
   "mimetype": "text/x-python",
   "name": "python",
   "nbconvert_exporter": "python",
   "pygments_lexer": "ipython3",
   "version": "3.10.5"
  },
  "vscode": {
   "interpreter": {
    "hash": "369f2c481f4da34e4445cda3fffd2e751bd1c4d706f27375911949ba6bb62e1c"
   }
  }
 },
 "nbformat": 4,
 "nbformat_minor": 4
}
