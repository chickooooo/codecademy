{
 "cells": [
  {
   "cell_type": "markdown",
   "id": "3d8b0184",
   "metadata": {},
   "source": [
    "# Working with Python Lists: Medical Insurance Costs Project"
   ]
  },
  {
   "cell_type": "markdown",
   "id": "b124b501",
   "metadata": {},
   "source": [
    "You are a doctor sorting through medical insurance cost data for some patients.\n",
    "\n",
    "Using your knowledge of Python lists, you will store medical data and see what valuable insights you can gain from that data.\n",
    "\n",
    "Let's get started!"
   ]
  },
  {
   "cell_type": "markdown",
   "id": "3967696d",
   "metadata": {},
   "source": [
    "## Exploring List Data"
   ]
  },
  {
   "cell_type": "markdown",
   "id": "5c1ed983",
   "metadata": {},
   "source": [
    "1. First, take a look at the two lists in the code block below.\n",
    "\n",
    "   The list `names` stores the names of ten individuals, and `insurance_costs` stores their medical insurance costs.\n",
    "   \n",
    "   Let's add additional data to these lists:\n",
    "   - Append a new individual, `\"Priscilla\"`, to `names`.\n",
    "   - Append her insurance cost, `8320.0` to `insurance_costs`."
   ]
  },
  {
   "cell_type": "code",
   "execution_count": 1,
   "id": "b49d92da",
   "metadata": {},
   "outputs": [],
   "source": [
    "names = [\"Mohamed\", \"Sara\", \"Xia\", \"Paul\", \"Valentina\", \"Jide\", \"Aaron\", \"Emily\", \"Nikita\", \"Paul\"]\n",
    "insurance_costs = [13262.0, 4816.0, 6839.0, 5054.0, 14724.0, 5360.0, 7640.0, 6072.0, 2750.0, 12064.0]\n",
    "\n",
    "names.append(\"Priscilla\")\n",
    "insurance_costs.append(8320.0)"
   ]
  },
  {
   "cell_type": "markdown",
   "id": "3e8995c6",
   "metadata": {},
   "source": [
    "2. Currently, the `names` and `insurance_costs` lists are separate, but we want each insurance cost to be paired with a name.\n",
    "\n",
    "   Create a new variable called `medical_records` that combines `insurance_costs` and `names` into a list using the `zip()` function.\n",
    "   \n",
    "   The list should have the following structure:\n",
    "   \n",
    "   ```py\n",
    "   [(cost_0, name_0), (cost_1, name_1), (cost_2, name_2), ...]\n",
    "   ```"
   ]
  },
  {
   "cell_type": "code",
   "execution_count": 6,
   "id": "e63ae8e7",
   "metadata": {},
   "outputs": [],
   "source": [
    "medical_records = list(zip(insurance_costs, names))"
   ]
  },
  {
   "cell_type": "markdown",
   "id": "c55bed8e",
   "metadata": {},
   "source": [
    "3. Print out `medical_records` below, and make sure the output is what you expected."
   ]
  },
  {
   "cell_type": "code",
   "execution_count": 7,
   "id": "3f46631e",
   "metadata": {},
   "outputs": [
    {
     "data": {
      "text/plain": [
       "[(13262.0, 'Mohamed'),\n",
       " (4816.0, 'Sara'),\n",
       " (6839.0, 'Xia'),\n",
       " (5054.0, 'Paul'),\n",
       " (14724.0, 'Valentina'),\n",
       " (5360.0, 'Jide'),\n",
       " (7640.0, 'Aaron'),\n",
       " (6072.0, 'Emily'),\n",
       " (2750.0, 'Nikita'),\n",
       " (12064.0, 'Paul'),\n",
       " (8320.0, 'Priscilla')]"
      ]
     },
     "execution_count": 7,
     "metadata": {},
     "output_type": "execute_result"
    }
   ],
   "source": [
    "medical_records"
   ]
  },
  {
   "cell_type": "markdown",
   "id": "c7526357",
   "metadata": {},
   "source": [
    "4. Let's explore our medical data.\n",
    "\n",
    "   We want to see how many medical records we are dealing with. Create a variable called `num_medical_records` that stores the length of `medical_records`."
   ]
  },
  {
   "cell_type": "code",
   "execution_count": 8,
   "id": "b1558949",
   "metadata": {},
   "outputs": [],
   "source": [
    "num_medical_records = len(medical_records)"
   ]
  },
  {
   "cell_type": "markdown",
   "id": "6362dbf0",
   "metadata": {},
   "source": [
    "5. Print `num_medical_records` with the following message:\n",
    "\n",
    "   ```\n",
    "   There are {number of medical records} medical records.\n",
    "   ```"
   ]
  },
  {
   "cell_type": "code",
   "execution_count": 9,
   "id": "fbdc5495",
   "metadata": {},
   "outputs": [
    {
     "data": {
      "text/plain": [
       "'There are 11 medical records'"
      ]
     },
     "execution_count": 9,
     "metadata": {},
     "output_type": "execute_result"
    }
   ],
   "source": [
    "\"There are \" + str(num_medical_records) + \" medical records\""
   ]
  },
  {
   "cell_type": "markdown",
   "id": "5f386c4f",
   "metadata": {},
   "source": [
    "## Selecting List Elements"
   ]
  },
  {
   "cell_type": "markdown",
   "id": "89b7ec6c",
   "metadata": {},
   "source": [
    "6. Select the first medical record in `medical_records`, and save it to a variable called `first_medical_record`."
   ]
  },
  {
   "cell_type": "code",
   "execution_count": 10,
   "id": "53b88931",
   "metadata": {},
   "outputs": [],
   "source": [
    "first_medical_record = medical_records[0]"
   ]
  },
  {
   "cell_type": "markdown",
   "id": "11f4431d",
   "metadata": {},
   "source": [
    "7. Print `first_medical_record` with the following message:\n",
    "\n",
    "   ```\n",
    "   Here is the first medical record: {first medical record}\n",
    "   ```"
   ]
  },
  {
   "cell_type": "code",
   "execution_count": 12,
   "id": "762a3af7",
   "metadata": {},
   "outputs": [
    {
     "data": {
      "text/plain": [
       "\"Here is the first medical record: (13262.0, 'Mohamed')\""
      ]
     },
     "execution_count": 12,
     "metadata": {},
     "output_type": "execute_result"
    }
   ],
   "source": [
    "\"Here is the first medical record: \" + str(first_medical_record)"
   ]
  },
  {
   "cell_type": "markdown",
   "id": "61dc8ab3",
   "metadata": {},
   "source": [
    "## Sorting Lists"
   ]
  },
  {
   "cell_type": "markdown",
   "id": "555162db",
   "metadata": {},
   "source": [
    "8. Sort `medical_records` so that the individuals with the lowest insurance costs appear at the start of the list.\n",
    "\n",
    "   Print the sorted `medical_records` with the following message:\n",
    "   \n",
    "   ```\n",
    "   Here are the medical records sorted by insurance cost: {sorted list}\n",
    "   ```"
   ]
  },
  {
   "cell_type": "code",
   "execution_count": 13,
   "id": "8e23efbb",
   "metadata": {},
   "outputs": [
    {
     "name": "stdout",
     "output_type": "stream",
     "text": [
      "Here are the medical records sorted by insurance cost: \n"
     ]
    },
    {
     "data": {
      "text/plain": [
       "[(2750.0, 'Nikita'),\n",
       " (4816.0, 'Sara'),\n",
       " (5054.0, 'Paul'),\n",
       " (5360.0, 'Jide'),\n",
       " (6072.0, 'Emily'),\n",
       " (6839.0, 'Xia'),\n",
       " (7640.0, 'Aaron'),\n",
       " (8320.0, 'Priscilla'),\n",
       " (12064.0, 'Paul'),\n",
       " (13262.0, 'Mohamed'),\n",
       " (14724.0, 'Valentina')]"
      ]
     },
     "execution_count": 13,
     "metadata": {},
     "output_type": "execute_result"
    }
   ],
   "source": [
    "medical_records.sort()\n",
    "\n",
    "print(\"Here are the medical records sorted by insurance cost: \")\n",
    "medical_records"
   ]
  },
  {
   "cell_type": "markdown",
   "id": "8e3b29f8",
   "metadata": {},
   "source": [
    "## Slicing Lists"
   ]
  },
  {
   "cell_type": "markdown",
   "id": "2586554b",
   "metadata": {},
   "source": [
    "9. Let's look at the three cheapest insurance costs in our medical records.\n",
    "\n",
    "   Slice the `medical_records` list, and store the three cheapest insurance costs in a list called `cheapest_three`."
   ]
  },
  {
   "cell_type": "code",
   "execution_count": 14,
   "id": "4155c88f",
   "metadata": {},
   "outputs": [],
   "source": [
    "cheapest_three = medical_records[:3]"
   ]
  },
  {
   "cell_type": "markdown",
   "id": "8c06c9f3",
   "metadata": {},
   "source": [
    "10. Print `cheapest_three` with the following message:\n",
    "\n",
    "    ```\n",
    "    Here are the three cheapest insurance costs in our medical records: {cheapest three}\n",
    "    ```"
   ]
  },
  {
   "cell_type": "code",
   "execution_count": 15,
   "id": "1b9284dc",
   "metadata": {},
   "outputs": [
    {
     "name": "stdout",
     "output_type": "stream",
     "text": [
      "Here are the three cheapest insurance costs in our medical records: \n"
     ]
    },
    {
     "data": {
      "text/plain": [
       "[(2750.0, 'Nikita'), (4816.0, 'Sara'), (5054.0, 'Paul')]"
      ]
     },
     "execution_count": 15,
     "metadata": {},
     "output_type": "execute_result"
    }
   ],
   "source": [
    "print(\"Here are the three cheapest insurance costs in our medical records: \")\n",
    "cheapest_three"
   ]
  },
  {
   "cell_type": "markdown",
   "id": "5cb6dd31",
   "metadata": {},
   "source": [
    "11. Let's look at the three most expensive insurance costs in our medical records.\n",
    "\n",
    "    Slice the `medical_records` list, and store the three most expensive insurance costs in a list called `priciest_three`."
   ]
  },
  {
   "cell_type": "code",
   "execution_count": 16,
   "id": "017e1171",
   "metadata": {},
   "outputs": [],
   "source": [
    "priciest_three = medical_records[-3:]"
   ]
  },
  {
   "cell_type": "markdown",
   "id": "80054480",
   "metadata": {},
   "source": [
    "12. Print `priciest_three` with the following message:\n",
    "\n",
    "    ```\n",
    "    Here are the three most expensive insurance costs in our medical records: {priciest three}\n",
    "    ```"
   ]
  },
  {
   "cell_type": "code",
   "execution_count": 17,
   "id": "0ced2fb2",
   "metadata": {},
   "outputs": [
    {
     "name": "stdout",
     "output_type": "stream",
     "text": [
      "Here are the three most expensive insurance costs in our medical records: \n"
     ]
    },
    {
     "data": {
      "text/plain": [
       "[(12064.0, 'Paul'), (13262.0, 'Mohamed'), (14724.0, 'Valentina')]"
      ]
     },
     "execution_count": 17,
     "metadata": {},
     "output_type": "execute_result"
    }
   ],
   "source": [
    "print(\"Here are the three most expensive insurance costs in our medical records: \")\n",
    "priciest_three"
   ]
  },
  {
   "cell_type": "markdown",
   "id": "d0ccbf5e",
   "metadata": {},
   "source": [
    "## Counting Elements in a List"
   ]
  },
  {
   "cell_type": "markdown",
   "id": "8e0c2d7b",
   "metadata": {},
   "source": [
    "13. Some individuals in our medical records have the same name. For example, the name \"Paul\" shows up twice.\n",
    "\n",
    "    Count the number of occurrences of \"Paul\" in the `names` list, and store the result in a variable called `occurrences_paul`.\n",
    "    \n",
    "    Print `occurrences_paul` with the following message:\n",
    "    \n",
    "    ```\n",
    "    There are {occurrences Paul} individuals with the name Paul in our medical records.\n",
    "    ```"
   ]
  },
  {
   "cell_type": "code",
   "execution_count": 18,
   "id": "1527cbb8",
   "metadata": {},
   "outputs": [
    {
     "data": {
      "text/plain": [
       "'There are 2 individuals with the name Paul in our medical records.'"
      ]
     },
     "execution_count": 18,
     "metadata": {},
     "output_type": "execute_result"
    }
   ],
   "source": [
    "occurrences_paul = names.count(\"Paul\")\n",
    "\"There are \" + str(occurrences_paul) + \" individuals with the name Paul in our medical records.\""
   ]
  }
 ],
 "metadata": {
  "kernelspec": {
   "display_name": "Python 3.10.5 64-bit",
   "language": "python",
   "name": "python3"
  },
  "language_info": {
   "codemirror_mode": {
    "name": "ipython",
    "version": 3
   },
   "file_extension": ".py",
   "mimetype": "text/x-python",
   "name": "python",
   "nbconvert_exporter": "python",
   "pygments_lexer": "ipython3",
   "version": "3.10.5"
  },
  "vscode": {
   "interpreter": {
    "hash": "369f2c481f4da34e4445cda3fffd2e751bd1c4d706f27375911949ba6bb62e1c"
   }
  }
 },
 "nbformat": 4,
 "nbformat_minor": 5
}
